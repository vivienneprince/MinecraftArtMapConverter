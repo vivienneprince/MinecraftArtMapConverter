{
 "cells": [
  {
   "cell_type": "markdown",
   "metadata": {},
   "source": [
    "# image > artmap mapping tool\n",
    "\n",
    "### Flow\n",
    "1. upload image  \n",
    "2. resize selection (by multiples of map size, or custom)  \n",
    "3. resize image  \n",
    "4. map to artmap colors\n",
    "5. *design ux~!*"
   ]
  },
  {
   "cell_type": "code",
   "execution_count": null,
   "metadata": {},
   "outputs": [
    {
     "ename": "",
     "evalue": "",
     "output_type": "error",
     "traceback": [
      "\u001b[1;31mRunning cells with 'Python ('ImageProcessing')' requires ipykernel package.\n",
      "\u001b[1;31mRun the following command to install 'ipykernel' into the Python environment. \n",
      "\u001b[1;31mCommand: 'conda install -n ImageProcessing ipykernel --update-deps --force-reinstall'"
     ]
    }
   ],
   "source": [
    "import cv2 as cv\n",
    "import numpy as np\n",
    "import matplotlib.pyplot as plt"
   ]
  },
  {
   "cell_type": "code",
   "execution_count": null,
   "metadata": {},
   "outputs": [],
   "source": [
    "image = cv.imread(\"pics/goku.jpeg\")\n",
    "\n",
    "fig, ax = plt.subplots(1, 4, figsize=(24, 8))\n",
    "\n",
    "# image size being 0.15 times of it's original size\n",
    "image_scaled = cv.resize(image, (256,256), interpolation = cv.INTER_LINEAR)\n",
    "ax[0].imshow(cv.cvtColor(image_scaled, cv.COLOR_BGR2RGB))\n",
    "ax[0].set_title(\"Linear Interpolation Scale\")\n",
    "\n"
   ]
  }
 ],
 "metadata": {
  "kernelspec": {
   "display_name": "Python 3.10.6 ('ImageProcessing')",
   "language": "python",
   "name": "python3"
  },
  "language_info": {
   "name": "python",
   "version": "3.10.6"
  },
  "orig_nbformat": 4,
  "vscode": {
   "interpreter": {
    "hash": "1468036b269a87296cc86277e0ceaaaec89e16b29aa7fc45b7dea5858b34d4c2"
   }
  }
 },
 "nbformat": 4,
 "nbformat_minor": 2
}
